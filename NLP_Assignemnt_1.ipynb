{
  "nbformat": 4,
  "nbformat_minor": 0,
  "metadata": {
    "colab": {
      "name": "NLP Assignemnt 1.ipynb",
      "provenance": [],
      "collapsed_sections": [],
      "mount_file_id": "18AVTFJ8mEVHwIXhTmt-aZ9d5PUpLiyUK",
      "authorship_tag": "ABX9TyOKIEhEOTqP87x65jiOLnoD",
      "include_colab_link": true
    },
    "kernelspec": {
      "name": "python3",
      "display_name": "Python 3"
    },
    "accelerator": "GPU"
  },
  "cells": [
    {
      "cell_type": "markdown",
      "metadata": {
        "id": "view-in-github",
        "colab_type": "text"
      },
      "source": [
        "<a href=\"https://colab.research.google.com/github/PinakDivecha/1101608_1dconv_reg/blob/master/NLP_Assignemnt_1.ipynb\" target=\"_parent\"><img src=\"https://colab.research.google.com/assets/colab-badge.svg\" alt=\"Open In Colab\"/></a>"
      ]
    },
    {
      "cell_type": "code",
      "metadata": {
        "id": "Kab4OzUprtIt",
        "colab_type": "code",
        "colab": {}
      },
      "source": [
        "# Imported the necessary libraries\n",
        "import csv\n",
        "import urllib.request as urllib2\n",
        "# !pip install urllib2 \n",
        "# import urllib2\n",
        "import matplotlib.pyplot as plt\n",
        "\n",
        "import pandas as pd\n",
        "# Importing data using url\n",
        "url = 'https://raw.githubusercontent.com/ageron/handson-ml/master/datasets/housing/housing.csv'\n",
        "response = urllib2.urlopen(url)\n",
        "\n",
        "# reading data using pandas and converting into dataframe\n",
        "df = pd.read_csv(response)\n",
        "# Removing the missing values\n",
        "df = df.dropna()"
      ],
      "execution_count": 0,
      "outputs": []
    },
    {
      "cell_type": "code",
      "metadata": {
        "id": "zK5Pznx7sV_R",
        "colab_type": "code",
        "outputId": "d1a543d5-e6ed-4203-e056-56839533f469",
        "colab": {
          "base_uri": "https://localhost:8080/",
          "height": 343
        }
      },
      "source": [
        "# Question 1\n",
        "# Displaying the first 10 rows/instances\n",
        "df.head(10)"
      ],
      "execution_count": 92,
      "outputs": [
        {
          "output_type": "execute_result",
          "data": {
            "text/html": [
              "<div>\n",
              "<style scoped>\n",
              "    .dataframe tbody tr th:only-of-type {\n",
              "        vertical-align: middle;\n",
              "    }\n",
              "\n",
              "    .dataframe tbody tr th {\n",
              "        vertical-align: top;\n",
              "    }\n",
              "\n",
              "    .dataframe thead th {\n",
              "        text-align: right;\n",
              "    }\n",
              "</style>\n",
              "<table border=\"1\" class=\"dataframe\">\n",
              "  <thead>\n",
              "    <tr style=\"text-align: right;\">\n",
              "      <th></th>\n",
              "      <th>longitude</th>\n",
              "      <th>latitude</th>\n",
              "      <th>housing_median_age</th>\n",
              "      <th>total_rooms</th>\n",
              "      <th>total_bedrooms</th>\n",
              "      <th>population</th>\n",
              "      <th>households</th>\n",
              "      <th>median_income</th>\n",
              "      <th>median_house_value</th>\n",
              "      <th>ocean_proximity</th>\n",
              "    </tr>\n",
              "  </thead>\n",
              "  <tbody>\n",
              "    <tr>\n",
              "      <th>0</th>\n",
              "      <td>-122.23</td>\n",
              "      <td>37.88</td>\n",
              "      <td>41.0</td>\n",
              "      <td>880.0</td>\n",
              "      <td>129.0</td>\n",
              "      <td>322.0</td>\n",
              "      <td>126.0</td>\n",
              "      <td>8.3252</td>\n",
              "      <td>452600.0</td>\n",
              "      <td>NEAR BAY</td>\n",
              "    </tr>\n",
              "    <tr>\n",
              "      <th>1</th>\n",
              "      <td>-122.22</td>\n",
              "      <td>37.86</td>\n",
              "      <td>21.0</td>\n",
              "      <td>7099.0</td>\n",
              "      <td>1106.0</td>\n",
              "      <td>2401.0</td>\n",
              "      <td>1138.0</td>\n",
              "      <td>8.3014</td>\n",
              "      <td>358500.0</td>\n",
              "      <td>NEAR BAY</td>\n",
              "    </tr>\n",
              "    <tr>\n",
              "      <th>2</th>\n",
              "      <td>-122.24</td>\n",
              "      <td>37.85</td>\n",
              "      <td>52.0</td>\n",
              "      <td>1467.0</td>\n",
              "      <td>190.0</td>\n",
              "      <td>496.0</td>\n",
              "      <td>177.0</td>\n",
              "      <td>7.2574</td>\n",
              "      <td>352100.0</td>\n",
              "      <td>NEAR BAY</td>\n",
              "    </tr>\n",
              "    <tr>\n",
              "      <th>3</th>\n",
              "      <td>-122.25</td>\n",
              "      <td>37.85</td>\n",
              "      <td>52.0</td>\n",
              "      <td>1274.0</td>\n",
              "      <td>235.0</td>\n",
              "      <td>558.0</td>\n",
              "      <td>219.0</td>\n",
              "      <td>5.6431</td>\n",
              "      <td>341300.0</td>\n",
              "      <td>NEAR BAY</td>\n",
              "    </tr>\n",
              "    <tr>\n",
              "      <th>4</th>\n",
              "      <td>-122.25</td>\n",
              "      <td>37.85</td>\n",
              "      <td>52.0</td>\n",
              "      <td>1627.0</td>\n",
              "      <td>280.0</td>\n",
              "      <td>565.0</td>\n",
              "      <td>259.0</td>\n",
              "      <td>3.8462</td>\n",
              "      <td>342200.0</td>\n",
              "      <td>NEAR BAY</td>\n",
              "    </tr>\n",
              "    <tr>\n",
              "      <th>5</th>\n",
              "      <td>-122.25</td>\n",
              "      <td>37.85</td>\n",
              "      <td>52.0</td>\n",
              "      <td>919.0</td>\n",
              "      <td>213.0</td>\n",
              "      <td>413.0</td>\n",
              "      <td>193.0</td>\n",
              "      <td>4.0368</td>\n",
              "      <td>269700.0</td>\n",
              "      <td>NEAR BAY</td>\n",
              "    </tr>\n",
              "    <tr>\n",
              "      <th>6</th>\n",
              "      <td>-122.25</td>\n",
              "      <td>37.84</td>\n",
              "      <td>52.0</td>\n",
              "      <td>2535.0</td>\n",
              "      <td>489.0</td>\n",
              "      <td>1094.0</td>\n",
              "      <td>514.0</td>\n",
              "      <td>3.6591</td>\n",
              "      <td>299200.0</td>\n",
              "      <td>NEAR BAY</td>\n",
              "    </tr>\n",
              "    <tr>\n",
              "      <th>7</th>\n",
              "      <td>-122.25</td>\n",
              "      <td>37.84</td>\n",
              "      <td>52.0</td>\n",
              "      <td>3104.0</td>\n",
              "      <td>687.0</td>\n",
              "      <td>1157.0</td>\n",
              "      <td>647.0</td>\n",
              "      <td>3.1200</td>\n",
              "      <td>241400.0</td>\n",
              "      <td>NEAR BAY</td>\n",
              "    </tr>\n",
              "    <tr>\n",
              "      <th>8</th>\n",
              "      <td>-122.26</td>\n",
              "      <td>37.84</td>\n",
              "      <td>42.0</td>\n",
              "      <td>2555.0</td>\n",
              "      <td>665.0</td>\n",
              "      <td>1206.0</td>\n",
              "      <td>595.0</td>\n",
              "      <td>2.0804</td>\n",
              "      <td>226700.0</td>\n",
              "      <td>NEAR BAY</td>\n",
              "    </tr>\n",
              "    <tr>\n",
              "      <th>9</th>\n",
              "      <td>-122.25</td>\n",
              "      <td>37.84</td>\n",
              "      <td>52.0</td>\n",
              "      <td>3549.0</td>\n",
              "      <td>707.0</td>\n",
              "      <td>1551.0</td>\n",
              "      <td>714.0</td>\n",
              "      <td>3.6912</td>\n",
              "      <td>261100.0</td>\n",
              "      <td>NEAR BAY</td>\n",
              "    </tr>\n",
              "  </tbody>\n",
              "</table>\n",
              "</div>"
            ],
            "text/plain": [
              "   longitude  latitude  ...  median_house_value  ocean_proximity\n",
              "0    -122.23     37.88  ...            452600.0         NEAR BAY\n",
              "1    -122.22     37.86  ...            358500.0         NEAR BAY\n",
              "2    -122.24     37.85  ...            352100.0         NEAR BAY\n",
              "3    -122.25     37.85  ...            341300.0         NEAR BAY\n",
              "4    -122.25     37.85  ...            342200.0         NEAR BAY\n",
              "5    -122.25     37.85  ...            269700.0         NEAR BAY\n",
              "6    -122.25     37.84  ...            299200.0         NEAR BAY\n",
              "7    -122.25     37.84  ...            241400.0         NEAR BAY\n",
              "8    -122.26     37.84  ...            226700.0         NEAR BAY\n",
              "9    -122.25     37.84  ...            261100.0         NEAR BAY\n",
              "\n",
              "[10 rows x 10 columns]"
            ]
          },
          "metadata": {
            "tags": []
          },
          "execution_count": 92
        }
      ]
    },
    {
      "cell_type": "code",
      "metadata": {
        "id": "-yImXl4lpl_y",
        "colab_type": "code",
        "colab": {}
      },
      "source": [
        "import pandas as pd\n",
        "from sklearn import preprocessing\n",
        "\n",
        "x = df.loc[:,'longitude':'median_house_value'].values #returns a numpy array\n",
        "min_max_scaler = preprocessing.MinMaxScaler()\n",
        "x_scaled = min_max_scaler.fit_transform(x)\n",
        "df1 = pd.DataFrame(x_scaled)\n",
        "df1.head(10)\n",
        "# df.columns\n",
        "df1.columns = [\t'longitude',\t'latitude',\t'housing_median_age',\t'total_rooms',\t'total_bedrooms',\t'population',\t'households',\t'median_income'\t,'median_house_value']"
      ],
      "execution_count": 0,
      "outputs": []
    },
    {
      "cell_type": "code",
      "metadata": {
        "id": "el57FWtotiqO",
        "colab_type": "code",
        "colab": {}
      },
      "source": [
        "df1.head(10)\n",
        "df = df1.copy()"
      ],
      "execution_count": 0,
      "outputs": []
    },
    {
      "cell_type": "code",
      "metadata": {
        "id": "ZAvibENGwmjE",
        "colab_type": "code",
        "outputId": "ca088715-e38a-4dc5-d46f-7bceeb66d799",
        "colab": {
          "base_uri": "https://localhost:8080/",
          "height": 542
        }
      },
      "source": [
        "# Displaying the graph of all the attributes/columns. \n",
        "# First 100 Instances\n",
        "df[:][:100].plot(subplots=True, figsize=(10, 10));"
      ],
      "execution_count": 95,
      "outputs": [
        {
          "output_type": "display_data",
          "data": {
            "image/png": "[encoded data removed]",
            "text/plain": [
              "<Figure size 720x720 with 9 Axes>"
            ]
          },
          "metadata": {
            "tags": []
          }
        }
      ]
    },
    {
      "cell_type": "code",
      "metadata": {
        "id": "tso-aaIN0gWF",
        "colab_type": "code",
        "colab": {}
      },
      "source": [
        "# # Converting the categorical into numerical\n",
        "# df['ocean_proximity'] = df['ocean_proximity'].astype('category')\n",
        "\n",
        "# # Save the numerical value for ocean_proximity column into new column name ocean_proximity_cat\n",
        "# df[\"ocean_proximity_cat\"] = df[\"ocean_proximity\"].cat.codes\n",
        "\n",
        "# # Importing the required library\n",
        "\n",
        "# # For loop for displaying each column graph.\n",
        "# for i in df.columns:\n",
        "#     if i != 'ocean_proximity': \n",
        "#       plt.figure()\n",
        "#       plt.suptitle('Figure for column - '+i)\n",
        "#       df[i][:100].plot(subplots=True)\n",
        "# # Question 2 output"
      ],
      "execution_count": 0,
      "outputs": []
    },
    {
      "cell_type": "code",
      "metadata": {
        "id": "iyALI1NTQFCO",
        "colab_type": "code",
        "colab": {}
      },
      "source": [
        "# Importing the Required Library\n",
        "import torch\n",
        "from torch.nn import Conv1d\n",
        "from torch.nn import Dropout\n",
        "\n",
        "from torch.nn import MaxPool1d\n",
        "from torch.nn import AvgPool1d\n",
        "\n",
        "\n",
        "from torch.nn import  Flatten\n",
        "\n",
        "from torch.nn import Linear\n",
        "\n",
        "from torch.nn.functional import relu\n",
        "\n",
        "from torch.utils.data import DataLoader, TensorDataset"
      ],
      "execution_count": 0,
      "outputs": []
    },
    {
      "cell_type": "code",
      "metadata": {
        "id": "_2i1INLzhjuP",
        "colab_type": "code",
        "colab": {}
      },
      "source": [
        "# Creating CNN model using pytorch\n",
        "class CnnRegressor(torch.nn.Module):\n",
        "  # Contructor\n",
        "  def __init__(self, batch_size, inputs, outputs):\n",
        "\n",
        "    super(CnnRegressor, self).__init__()\n",
        "    self.batch_size = batch_size\n",
        "    self.inputs = inputs\n",
        "    self.outputs = outputs\n",
        "    \n",
        "    # First Convolution layer\n",
        "    self.input_layer  = Conv1d(inputs, batch_size, 1)\n",
        "\n",
        "    # First Max Pooling\n",
        "    self.max_pooling_layer = MaxPool1d(1)\n",
        "    # self.max_pooling_layer = AvgPool1d(1)\n",
        "      \n",
        "    # Second Convolution Layer\n",
        "    self.conv_layer = Conv1d(batch_size, 128,1) \n",
        "    \n",
        "    # Flatten Layer\n",
        "    self.flatten_layer = Flatten()\n",
        "\n",
        "    # Linear Layer 1\n",
        "    self.linear_layer = Linear(128, 64)\n",
        "\n",
        "    # Linear layer 2\n",
        "    self.output_layer = Linear(64, outputs)\n",
        "\n",
        "  # This function connects the layers defined in contructor \n",
        "  def feed(self,input):\n",
        "    # First the input is reshpaed as per the required size\n",
        "    input = input.reshape((self.batch_size, self.inputs, 1))\n",
        "  \n",
        "    # Goes into the conv layer and its output is put into relu funtion\n",
        "    output = relu(self.input_layer(input))\n",
        "\n",
        "    # And max pooling is applied\n",
        "    output = self.max_pooling_layer(output)\n",
        "\n",
        "    # Similar step is done conv 2\n",
        "    output = relu(self.conv_layer(output))\n",
        "\n",
        "    # Flattern the value\n",
        "    output = self.flatten_layer(output)\n",
        "  \n",
        "\n",
        "    output = self.linear_layer(output)\n",
        "\n",
        "    output = self.output_layer(output)\n",
        "\n",
        "    return output\n",
        "\n",
        "\n",
        "# Below comments were used by me in order to overcome overfitting\n",
        "    # self.max_pooling_layer1 = MaxPool1d(1)\n",
        "    # self.max_pooling_layer1 = AvgPool1d(1)\n",
        "    \n",
        "    # self.conv_layer1 = Conv1d(128, 128,1) #Conv1D\n",
        "\n",
        "    # self.max_pooling_layer2 = MaxPool1d(1)\n",
        "\n",
        "    # self.conv_layer2 = Conv1d(128, 128,1) #Conv1D\n",
        "\n",
        "    # self.max_pooling_layer3 = MaxPool1d(1)\n",
        "\n",
        "    # self.conv_layer3 = Conv1d(128, 128,1) #Conv1D\n",
        "\n",
        "    # print(\"One \", output.shape)\n",
        "    # output = self.max_pooling_layer1(output)\n",
        "    # print(\"two \",output.shape)\n",
        "    # output = relu(self.conv_layer1(output))\n",
        "\n",
        "    # output = self.max_pooling_layer2(output)\n",
        "    # # print(\"two \",output.shape)\n",
        "    # output = relu(self.conv_layer2(output))\n",
        "\n",
        "    # output = self.max_pooling_layer3(output)\n",
        "    # # print(\"two \",output.shape)\n",
        "    # output = relu(self.conv_layer3(output))"
      ],
      "execution_count": 0,
      "outputs": []
    },
    {
      "cell_type": "code",
      "metadata": {
        "id": "0ZOdJ10FwWhT",
        "colab_type": "code",
        "colab": {}
      },
      "source": [
        "# Importing necessary library\n",
        "import pandas as pd\n",
        "from sklearn.model_selection import train_test_split\n",
        "    \n",
        "import numpy as np"
      ],
      "execution_count": 0,
      "outputs": []
    },
    {
      "cell_type": "code",
      "metadata": {
        "id": "OWZckhQOu2ku",
        "colab_type": "code",
        "outputId": "d0659f28-73cd-4bc3-a513-5c06e76f3f58",
        "colab": {
          "base_uri": "https://localhost:8080/",
          "height": 34
        }
      },
      "source": [
        "# Reading the attributes\n",
        "df_x = df.loc[:,'longitude':'median_income']\n",
        "# Seperating target variable\n",
        "df_y = df['median_house_value']\n",
        "\n",
        "\n",
        "# Spliting the dataset as per 30:70 ratio\n",
        "X_train, X_test, y_train, y_test = train_test_split(\n",
        "    df_x, df_y, test_size=0.3, random_state=2003)\n",
        "\n",
        "# Converting into numpy \n",
        "x_test_np = X_test.to_numpy()\n",
        "y_test_np = y_test.to_numpy()\n",
        "\n",
        "x_train_np = X_train.to_numpy()\n",
        "y_train_np = y_train.to_numpy()\n",
        "\n",
        "# Displaying the dimention of the arrays\n",
        "print(x_train_np.shape, y_train_np.shape, \n",
        "      x_test_np.shape, y_test_np.shape)"
      ],
      "execution_count": 100,
      "outputs": [
        {
          "output_type": "stream",
          "text": [
            "(14303, 8) (14303,) (6130, 8) (6130,)\n"
          ],
          "name": "stdout"
        }
      ]
    },
    {
      "cell_type": "code",
      "metadata": {
        "id": "4OEzZBLRhxvs",
        "colab_type": "code",
        "outputId": "66c70aab-fda0-41e3-9e45-6685a47bfb48",
        "colab": {
          "base_uri": "https://localhost:8080/",
          "height": 158
        }
      },
      "source": [
        "# Defining the batch size\n",
        "batch_size = 64\n",
        "\n",
        "model = CnnRegressor(batch_size, df_x.shape[1],1)\n",
        "# As I am using gpu \n",
        "model.cuda()"
      ],
      "execution_count": 101,
      "outputs": [
        {
          "output_type": "execute_result",
          "data": {
            "text/plain": [
              "CnnRegressor(\n",
              "  (input_layer): Conv1d(8, 64, kernel_size=(1,), stride=(1,))\n",
              "  (max_pooling_layer): MaxPool1d(kernel_size=1, stride=1, padding=0, dilation=1, ceil_mode=False)\n",
              "  (conv_layer): Conv1d(64, 128, kernel_size=(1,), stride=(1,))\n",
              "  (flatten_layer): Flatten()\n",
              "  (linear_layer): Linear(in_features=128, out_features=64, bias=True)\n",
              "  (output_layer): Linear(in_features=64, out_features=1, bias=True)\n",
              ")"
            ]
          },
          "metadata": {
            "tags": []
          },
          "execution_count": 101
        }
      ]
    },
    {
      "cell_type": "code",
      "metadata": {
        "id": "0eBrlmUhzH5R",
        "colab_type": "code",
        "outputId": "a0d3db4c-f4e9-4268-b9cc-10a6fd4145c4",
        "colab": {
          "base_uri": "https://localhost:8080/",
          "height": 105
        }
      },
      "source": [
        "from torch.optim import SGD\n",
        "from torch.optim import Rprop, Adam\n",
        "\n",
        "\n",
        "from torch.nn import L1Loss, MSELoss\n",
        "# from torch.nn import L1Loss\n",
        "!pip install pytorch.ignite\n",
        "\n",
        "from ignite.contrib.metrics.regression.r2_score import R2Score"
      ],
      "execution_count": 102,
      "outputs": [
        {
          "output_type": "stream",
          "text": [
            "Collecting pytorch.ignite\n",
            "  Using cached https://files.pythonhosted.org/packages/35/55/41e8a995876fd2ade29bdba0c3efefa38e7d605cb353c70f3173c04928b5/pytorch_ignite-0.3.0-py2.py3-none-any.whl\n",
            "Requirement already satisfied: torch in /usr/local/lib/python3.6/dist-packages (from pytorch.ignite) (1.4.0)\n",
            "Installing collected packages: pytorch.ignite\n",
            "Successfully installed pytorch.ignite\n"
          ],
          "name": "stdout"
        }
      ]
    },
    {
      "cell_type": "code",
      "metadata": {
        "id": "7fRDbD2VzNz2",
        "colab_type": "code",
        "colab": {}
      },
      "source": [
        "def model_loss(model, dataa, train = False, optimizer = None):\n",
        "  performance = L1Loss()\n",
        "  # performance = MSELoss()\n",
        "  score_metric = R2Score()\n",
        "\n",
        "  avg_loss = 0\n",
        "  avg_score = 0\n",
        "  count = 0\n",
        "\n",
        "  for input, output in iter(dataa):\n",
        "    # print(\"This is the shape \",input.shape)\n",
        "    prediction = model.feed(input)\n",
        "\n",
        "    loss = performance(prediction, output)\n",
        "\n",
        "    score_metric.update([prediction, output])\n",
        "    score = score_metric.compute()\n",
        "\n",
        "    if (train):\n",
        "      optimizer.zero_grad()\n",
        "\n",
        "      loss.backward()\n",
        "\n",
        "      optimizer.step()\n",
        "\n",
        "    avg_loss += loss.item()\n",
        "    avg_score += score\n",
        "    count += 1\n",
        " \n",
        "  return avg_loss / count, avg_score / count"
      ],
      "execution_count": 0,
      "outputs": []
    },
    {
      "cell_type": "code",
      "metadata": {
        "id": "uq6M7OYFzQSx",
        "colab_type": "code",
        "outputId": "d7fc7493-bb0a-49e6-e847-1f79ff811b4e",
        "colab": {
          "base_uri": "https://localhost:8080/",
          "height": 52
        }
      },
      "source": [
        "# Defining epoch\n",
        "epochs = 500 \n",
        "\n",
        "# Defining optimizer\n",
        "optimizer = Adam(model.parameters(),lr=0.001)\n",
        "\n",
        "# Converting numpy array into required format for torch\n",
        "inputs = torch.from_numpy(x_train_np).cuda().float()\n",
        "outputs = torch.from_numpy(y_train_np.reshape(y_train_np.shape[0], 1)).cuda().float()\n",
        "\n",
        "tensor = TensorDataset(inputs, outputs)\n",
        "loader = DataLoader(tensor, batch_size, shuffle = True, drop_last = True)\n",
        "xx = 0\n",
        "yy = 0\n",
        "\n",
        "# Calculating the time\n",
        "import time\n",
        "start = time.time()\n",
        "\n",
        "for epoch in range(epochs):\n",
        "  avg_loss, avg_2_score = model_loss(model, loader, train = True, optimizer = optimizer)\n",
        "\n",
        "end = time.time()\n",
        "print(\"Time taken to create a model\",str(end - start))\n",
        "\n",
        "print(\"Epoch \",str(epoch+1),\" Loss\", str(avg_loss), \" R2Score\",str(avg_2_score))\n"
      ],
      "execution_count": 104,
      "outputs": [
        {
          "output_type": "stream",
          "text": [
            "Time taken to create a model 380.0281352996826\n",
            "Epoch  500  Loss 0.060570561063931126  R2Score 0.8305019572911332\n"
          ],
          "name": "stdout"
        }
      ]
    },
    {
      "cell_type": "code",
      "metadata": {
        "id": "WKDADUw-eSC0",
        "colab_type": "code",
        "outputId": "8ae2bbe2-562f-4fe4-84bb-5fd466a9b814",
        "colab": {
          "base_uri": "https://localhost:8080/",
          "height": 34
        }
      },
      "source": [
        "# Mounting the drive \n",
        "from google.colab import drive\n",
        "drive.mount('/content/drive')"
      ],
      "execution_count": 105,
      "outputs": [
        {
          "output_type": "stream",
          "text": [
            "Drive already mounted at /content/drive; to attempt to forcibly remount, call drive.mount(\"/content/drive\", force_remount=True).\n"
          ],
          "name": "stdout"
        }
      ]
    },
    {
      "cell_type": "code",
      "metadata": {
        "id": "h88a8Elwf4sl",
        "colab_type": "code",
        "colab": {}
      },
      "source": [
        "# Saving the code in the drive\n",
        "torch.save(model.state_dict(),\n",
        "           '/content/drive/My Drive/1101608_1dconv_reg.h')"
      ],
      "execution_count": 0,
      "outputs": []
    },
    {
      "cell_type": "code",
      "metadata": {
        "id": "WQ3JI0nNFXJE",
        "colab_type": "code",
        "outputId": "785c7e0f-d8a6-4eed-caed-9638788edddd",
        "colab": {
          "base_uri": "https://localhost:8080/",
          "height": 70
        }
      },
      "source": [
        "inputs = torch.from_numpy(x_test_np).cuda().float()\n",
        "outputs = torch.from_numpy(y_test_np.reshape(y_test_np.shape[0],1)).cuda().float()\n",
        "\n",
        "tensor = TensorDataset(inputs, outputs)\n",
        "\n",
        "loader = DataLoader(tensor,batch_size, shuffle=True, drop_last=True)\n",
        "\n",
        "# Calculating the time #Inference Time\n",
        "start = torch.cuda.Event(enable_timing=True)\n",
        "end = torch.cuda.Event(enable_timing=True)\n",
        "\n",
        "# Start of time\n",
        "start.record()\n",
        "avg_loss, avg_r2_score = model_loss(model, loader)\n",
        "end.record()\n",
        "# End of time\n",
        "torch.cuda.synchronize()\n",
        "\n",
        "print(\"Inference time: \",str(start.elapsed_time(end)))\n",
        "\n",
        "print(\"Loss = \" + str(avg_loss) + \"\\nR^2 Score = \" + str(avg_r2_score))\n"
      ],
      "execution_count": 110,
      "outputs": [
        {
          "output_type": "stream",
          "text": [
            "Inference time:  125.24441528320312\n",
            "Loss = 0.06773636458735717\n",
            "R^2 Score = 0.7933584797075979\n"
          ],
          "name": "stdout"
        }
      ]
    },
    {
      "cell_type": "code",
      "metadata": {
        "id": "Is8v8WUhcVcR",
        "colab_type": "code",
        "colab": {}
      },
      "source": [
        ""
      ],
      "execution_count": 0,
      "outputs": []
    }
  ]
}